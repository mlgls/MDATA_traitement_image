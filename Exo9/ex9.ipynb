{
 "cells": [
  {
   "cell_type": "code",
   "execution_count": 58,
   "metadata": {},
   "outputs": [],
   "source": [
    "import cv2\n",
    "import os\n",
    "import numpy as np"
   ]
  },
  {
   "cell_type": "code",
   "execution_count": 59,
   "metadata": {},
   "outputs": [],
   "source": [
    "faces=[]\n",
    "labels=[]\n",
    "labels_tag={}"
   ]
  },
  {
   "cell_type": "code",
   "execution_count": 60,
   "metadata": {},
   "outputs": [],
   "source": [
    "#pour le dossier des étudiants de l'école\n",
    "#on parcourt les dossiers pour récupérer toutes les images d'entrainement, et leur label\n",
    "count=0\n",
    "for dossier in os.listdir(\"dataset/\"): \n",
    "    count+=1\n",
    "    labels_tag[count]=dossier\n",
    "    for image in os.listdir(\"dataset/\"+dossier) :\n",
    "        labels.append(count)\n",
    "        img = cv2.imread(\"dataset/\"+dossier+'/'+image)\n",
    "        faces.append(cv2.cvtColor(img, cv2.COLOR_BGR2GRAY))"
   ]
  },
  {
   "cell_type": "code",
   "execution_count": 61,
   "metadata": {},
   "outputs": [],
   "source": [
    "#on créé et on entraine l'ia de reconaissance faciale\n",
    "face_recognizer = cv2.face.LBPHFaceRecognizer_create()\n",
    "face_recognizer.train(faces, np.array(labels))"
   ]
  },
  {
   "cell_type": "code",
   "execution_count": 62,
   "metadata": {},
   "outputs": [],
   "source": [
    "face_cascade = cv2.CascadeClassifier('haarcascade_frontalface_default.xml')\n",
    "img_predict = cv2.imread(\"fusion.jpg\") #image utilisée comme probe, analysée par la suite"
   ]
  },
  {
   "cell_type": "code",
   "execution_count": 63,
   "metadata": {},
   "outputs": [],
   "source": [
    "gray = cv2.cvtColor(img_predict, cv2.COLOR_BGR2GRAY)\n",
    "#on détecte les visages dans l'image\n",
    "face_detect = face_cascade.detectMultiScale(gray, 1.3, 5)\n",
    "for (x,y,w,h) in face_detect:\n",
    "    #on effectue une prédiction sur le visage détecté dans la zone rectangulaire dont l'origine est (x,y), de dimention (w,h)\n",
    "    label,conf = face_recognizer.predict(cv2.cvtColor(img_predict[y:y+h, x:x+w], cv2.COLOR_BGR2GRAY))\n",
    "    #on rajoute un rectangle ainsi que la prédiction autours des visages détectés\n",
    "    img_predict = cv2.rectangle(img_predict,(x,y),(x+w,y+h),(255,0,0),2)\n",
    "    img_predict = cv2.putText(img_predict, labels_tag[label], (x+2,y+h-5), cv2.FONT_HERSHEY_SIMPLEX, 1, (255,0,0))\n",
    "    \"\"\"if conf<50 :\n",
    "    else:\n",
    "        img_predict = cv2.putText(img_predict, 'No Match', (x+2,y+h-5), cv2.FONT_HERSHEY_SIMPLEX, 1, (0,0,255),2)\"\"\""
   ]
  },
  {
   "cell_type": "code",
   "execution_count": 64,
   "metadata": {},
   "outputs": [],
   "source": [
    "cv2.imshow('frame', img_predict)\n",
    "cv2.waitKey(0)\n",
    "cv2.destroyAllWindows()"
   ]
  },
  {
   "cell_type": "code",
   "execution_count": null,
   "metadata": {},
   "outputs": [],
   "source": []
  }
 ],
 "metadata": {
  "kernelspec": {
   "display_name": "Python 3",
   "language": "python",
   "name": "python3"
  },
  "language_info": {
   "codemirror_mode": {
    "name": "ipython",
    "version": 3
   },
   "file_extension": ".py",
   "mimetype": "text/x-python",
   "name": "python",
   "nbconvert_exporter": "python",
   "pygments_lexer": "ipython3",
   "version": "3.7.5"
  }
 },
 "nbformat": 4,
 "nbformat_minor": 4
}

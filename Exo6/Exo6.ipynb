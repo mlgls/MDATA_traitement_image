{
 "cells": [
  {
   "cell_type": "code",
   "execution_count": 1,
   "metadata": {},
   "outputs": [],
   "source": [
    "import numpy as np\n",
    "from PIL import Image\n",
    "import numpy as np\n",
    "from IPython.display import display\n",
    "from sklearn.neighbors import KNeighborsClassifier\n",
    "import pickle\n",
    "from collections import Counter"
   ]
  },
  {
   "cell_type": "code",
   "execution_count": 2,
   "metadata": {},
   "outputs": [],
   "source": [
    "def unpickle(file):\n",
    "    with open(file, 'rb') as fo:\n",
    "        dict = pickle.load(fo, encoding=\"latin1\")\n",
    "    return dict"
   ]
  },
  {
   "cell_type": "code",
   "execution_count": 3,
   "metadata": {},
   "outputs": [],
   "source": [
    "#fontion qui remplace le fit et predict de KNeighborsClassifier() \n",
    "def knn_predict_one(test_data_one, k, img_data, img_label):\n",
    "    # calcul distance entre deux images\n",
    "    distances = []\n",
    "    for index in range(len(img_data)):\n",
    "        # calcul de la distance euclidienne en convertissant les uint en int pour éviter les erreurs de calcul\n",
    "        dist = np.sum((img_data[index].astype(int) - test_data_one.astype(int)) ** 2)\n",
    "        distances.append((img_data[index], np.sqrt(dist), img_label[index])) \n",
    "    distances.sort(key=lambda x: x[1]) #on trie dans l'ordre croissant des distances\n",
    "    neighbors = distances[:k] # on garde les k premiers qui correspondent aux k plus proches voisins\n",
    "    return neighbors"
   ]
  },
  {
   "cell_type": "code",
   "execution_count": 4,
   "metadata": {},
   "outputs": [],
   "source": [
    "def show_img(img_arr, label_arr, meta, index):\n",
    "    one_img = img_arr[index, :]\n",
    "    # Assume image size is 32 x 32. First 1024 px is r, next 1024 px is g, last 1024 px is b from the (r,g b) channel\n",
    "    r = one_img[:1024].reshape(32, 32)\n",
    "    g = one_img[1024:2048].reshape(32, 32)\n",
    "    b = one_img[2048:].reshape(32, 32)\n",
    "    rgb = np.dstack([r, g, b])\n",
    "    img = Image.fromarray(np.array(rgb), 'RGB')\n",
    "    display(img)"
   ]
  },
  {
   "cell_type": "code",
   "execution_count": 5,
   "metadata": {},
   "outputs": [
    {
     "data": {
      "image/png": "[encoded data removed]",
      "text/plain": [
       "<PIL.Image.Image image mode=RGB size=32x32 at 0x162533EB808>"
      ]
     },
     "metadata": {},
     "output_type": "display_data"
    },
    {
     "name": "stdout",
     "output_type": "stream",
     "text": [
      "cat :: deer\n"
     ]
    },
    {
     "data": {
      "image/png": "[encoded data removed]",
      "text/plain": [
       "<PIL.Image.Image image mode=RGB size=32x32 at 0x16257316308>"
      ]
     },
     "metadata": {},
     "output_type": "display_data"
    },
    {
     "name": "stdout",
     "output_type": "stream",
     "text": [
      "ship :: ship\n"
     ]
    },
    {
     "data": {
      "image/png": "[encoded data removed]",
      "text/plain": [
       "<PIL.Image.Image image mode=RGB size=32x32 at 0x162533EDD48>"
      ]
     },
     "metadata": {},
     "output_type": "display_data"
    },
    {
     "name": "stdout",
     "output_type": "stream",
     "text": [
      "ship :: ship\n"
     ]
    },
    {
     "data": {
      "image/png": "[encoded data removed]",
      "text/plain": [
       "<PIL.Image.Image image mode=RGB size=32x32 at 0x162573163C8>"
      ]
     },
     "metadata": {},
     "output_type": "display_data"
    },
    {
     "name": "stdout",
     "output_type": "stream",
     "text": [
      "airplane :: ship\n"
     ]
    },
    {
     "data": {
      "image/png": "[encoded data removed]",
      "text/plain": [
       "<PIL.Image.Image image mode=RGB size=32x32 at 0x16257316588>"
      ]
     },
     "metadata": {},
     "output_type": "display_data"
    },
    {
     "name": "stdout",
     "output_type": "stream",
     "text": [
      "frog :: dog\n"
     ]
    },
    {
     "data": {
      "image/png": "[encoded data removed]",
      "text/plain": [
       "<PIL.Image.Image image mode=RGB size=32x32 at 0x16257316588>"
      ]
     },
     "metadata": {},
     "output_type": "display_data"
    },
    {
     "name": "stdout",
     "output_type": "stream",
     "text": [
      "frog :: deer\n"
     ]
    },
    {
     "data": {
      "image/png": "[encoded data removed]",
      "text/plain": [
       "<PIL.Image.Image image mode=RGB size=32x32 at 0x16257316588>"
      ]
     },
     "metadata": {},
     "output_type": "display_data"
    },
    {
     "name": "stdout",
     "output_type": "stream",
     "text": [
      "automobile :: cat\n"
     ]
    },
    {
     "data": {
      "image/png": "[encoded data removed]",
      "text/plain": [
       "<PIL.Image.Image image mode=RGB size=32x32 at 0x162573163C8>"
      ]
     },
     "metadata": {},
     "output_type": "display_data"
    },
    {
     "name": "stdout",
     "output_type": "stream",
     "text": [
      "frog :: bird\n"
     ]
    },
    {
     "data": {
      "image/png": "[encoded data removed]",
      "text/plain": [
       "<PIL.Image.Image image mode=RGB size=32x32 at 0x162573163C8>"
      ]
     },
     "metadata": {},
     "output_type": "display_data"
    },
    {
     "name": "stdout",
     "output_type": "stream",
     "text": [
      "cat :: bird\n"
     ]
    },
    {
     "data": {
      "image/png": "[encoded data removed]",
      "text/plain": [
       "<PIL.Image.Image image mode=RGB size=32x32 at 0x16257316648>"
      ]
     },
     "metadata": {},
     "output_type": "display_data"
    },
    {
     "name": "stdout",
     "output_type": "stream",
     "text": [
      "automobile :: ship\n"
     ]
    }
   ],
   "source": [
    "basedir_data = \"./data/\"\n",
    "rel_path = basedir_data + \"cifar-10-batches-py/\"\n",
    "X = unpickle(rel_path + 'data_batch_1')\n",
    "img_data = X['data']\n",
    "img_label_orig = img_label = X['labels']\n",
    "img_label = np.array(img_label).reshape(-1, 1)\n",
    "test_X = unpickle(rel_path + 'test_batch')\n",
    "test_data = test_X['data']\n",
    "test_label = test_X['labels']\n",
    "test_label = np.array(test_label).reshape(-1, 1)\n",
    "batch = unpickle(rel_path + 'batches.meta')\n",
    "meta = batch['label_names']\n",
    "for index in range(10): #pour les 10 premières images de test\n",
    "    pred = knn_predict_one(test_data[index], 3, img_data, img_label)\n",
    "    label_pred_list = [(item[2])[0] for item in pred] #on récupère la liste des labels qui correspondent aux k voisins\n",
    "    label = Counter(label_pred_list).most_common()[0][0] #on récupère le label qui est présent le plus de fois dans la liste\n",
    "    show_img(test_data, img_label, meta, index)\n",
    "    print(meta[test_label[index][0]], \"::\", meta[label])"
   ]
  },
  {
   "cell_type": "markdown",
   "metadata": {},
   "source": [
    "#### Pourquoi je n'ai pas exactement les mêmes résultats que le KNeighborsClassifier comme montré dans le sujet de TP :\n",
    "En cas d'égalité du nombre d'occurences pour les labels *(si par exemple les trois images les plus proches d'une image test correspondent à trois catégories différentes)*, j'ai choisi de prendre la catégorie **qui correspond à l'image qui a la plus petite distance**. De ce fait, au lieu d'avoir *airplane :: airplane (label 0)* et *frog :: bird (label 2)*, j'ai : *airplane :: ship (label 8)* et *frog :: deer (label 4)* alors que dans le knn classifer, il choisit le label dans l'ordre croissant et donc le plus petit (donc ici 0 et 2).\n",
    "Cela nous fait perdre une prédiction dans notre exemple avec 10 images de test mais dans l'ensemble du tableau, **je pense que cette méthode est un peu plus optimisée.**"
   ]
  },
  {
   "cell_type": "code",
   "execution_count": null,
   "metadata": {},
   "outputs": [],
   "source": []
  }
 ],
 "metadata": {
  "kernelspec": {
   "display_name": "Python 3",
   "language": "python",
   "name": "python3"
  },
  "language_info": {
   "codemirror_mode": {
    "name": "ipython",
    "version": 3
   },
   "file_extension": ".py",
   "mimetype": "text/x-python",
   "name": "python",
   "nbconvert_exporter": "python",
   "pygments_lexer": "ipython3",
   "version": "3.7.4"
  }
 },
 "nbformat": 4,
 "nbformat_minor": 2
}
